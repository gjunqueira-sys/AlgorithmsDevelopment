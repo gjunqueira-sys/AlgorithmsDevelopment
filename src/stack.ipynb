{
 "cells": [
  {
   "cell_type": "code",
   "execution_count": 17,
   "metadata": {},
   "outputs": [
    {
     "data": {
      "text/plain": [
       "stack_pop"
      ]
     },
     "metadata": {},
     "output_type": "display_data"
    }
   ],
   "source": [
    "\"\"\"\n",
    "Arguments:\n",
    "    T::Type: the type of the elements to be stored in the stack\n",
    "Returns:\n",
    "    Array{T}: an empty array of type T to represent an empty stack\n",
    "Overview:\n",
    "    This function creates an empty stack of type T by returning an empty array of type T.\n",
    "\"\"\"\n",
    "function empty_stack(T::Type)\n",
    "    return Array{T}(undef, 0)\n",
    "end\n",
    "\n",
    "\n",
    "\"\"\"\n",
    "Arguments:\n",
    "    stack: the stack to be checked for emptiness\n",
    "Returns:\n",
    "    Bool: true if the stack is empty, false otherwise\n",
    "    \n",
    "Overview:\n",
    "    This function checks if the stack is empty by checking the length of the stack. \n",
    "    If the length of the stack is 0, then the stack is considered empty and the function returns true.\n",
    "\"\"\"\n",
    "function is_empty(stack)\n",
    "    return length(stack) == 0\n",
    "end\n",
    "\n",
    "\n",
    "\"\"\"\n",
    "Arguments:\n",
    "    x: the element to be added to the top of the stack\n",
    "    stack: the stack to be modified by adding the element to its top\n",
    "Returns:\n",
    "    Array{T}: the stack with the added element at its top\n",
    "Overview:\n",
    "    This function adds an element to the top of the stack by using `[x; stack]`. The resulting array represents the stack with the added element at its top.\n",
    "\"\"\"\n",
    "function stack_push(item, stack)\n",
    "    return [item; stack]\n",
    "end\n",
    "\n",
    "\n",
    "\n",
    "\"\"\"\n",
    "Arguments:\n",
    "    stack: the stack to be queried for its top element\n",
    "Returns:\n",
    "    T: the top element of the stack\n",
    "Overview:\n",
    "    This function returns the top element of the stack by accessing the first element of the stack.\n",
    "\"\"\"\n",
    "function stack_top(stack)\n",
    "    return stack[1]\n",
    "end\n",
    "\n",
    "\n",
    "\"\"\"\n",
    "Arguments:\n",
    "    stack: the stack to be modified by removing its top element\n",
    "Returns:\n",
    "    Array{T}: the stack without its top element\n",
    "Overview:\n",
    "    This function removes the top element from the stack by slicing the stack from the second element to the end. \n",
    "    The resulting array represents the stack without its top element.\n",
    "\"\"\"\n",
    "function stack_pop(stack)\n",
    "    return stack[2:end]\n",
    "end\n",
    "\n",
    "\n",
    "\n",
    "\n"
   ]
  },
  {
   "cell_type": "code",
   "execution_count": 7,
   "metadata": {},
   "outputs": [
    {
     "data": {
      "text/plain": [
       "Int64[]"
      ]
     },
     "metadata": {},
     "output_type": "display_data"
    }
   ],
   "source": [
    "s = empty_stack(Int64)"
   ]
  },
  {
   "cell_type": "code",
   "execution_count": 8,
   "metadata": {},
   "outputs": [
    {
     "data": {
      "text/plain": [
       "true"
      ]
     },
     "metadata": {},
     "output_type": "display_data"
    }
   ],
   "source": [
    "isempty(s)"
   ]
  },
  {
   "cell_type": "code",
   "execution_count": 10,
   "metadata": {},
   "outputs": [
    {
     "data": {
      "text/plain": [
       "1-element Vector{Int64}:\n",
       " 1"
      ]
     },
     "metadata": {},
     "output_type": "display_data"
    }
   ],
   "source": [
    "stack_push(1, s)"
   ]
  },
  {
   "cell_type": "code",
   "execution_count": 11,
   "metadata": {},
   "outputs": [
    {
     "data": {
      "text/plain": [
       "Int64[]"
      ]
     },
     "metadata": {},
     "output_type": "display_data"
    }
   ],
   "source": [
    "s"
   ]
  },
  {
   "cell_type": "code",
   "execution_count": 12,
   "metadata": {},
   "outputs": [
    {
     "data": {
      "text/plain": [
       "1-element Vector{Int64}:\n",
       " 1"
      ]
     },
     "metadata": {},
     "output_type": "display_data"
    }
   ],
   "source": [
    "s1 = stack_push(1, s)"
   ]
  },
  {
   "cell_type": "code",
   "execution_count": 13,
   "metadata": {},
   "outputs": [
    {
     "data": {
      "text/plain": [
       "2-element Vector{Int64}:\n",
       " 2\n",
       " 1"
      ]
     },
     "metadata": {},
     "output_type": "display_data"
    }
   ],
   "source": [
    "s2 = stack_push(2, s1)"
   ]
  },
  {
   "cell_type": "code",
   "execution_count": 14,
   "metadata": {},
   "outputs": [
    {
     "data": {
      "text/plain": [
       "false"
      ]
     },
     "metadata": {},
     "output_type": "display_data"
    }
   ],
   "source": [
    "is_empty(s2)"
   ]
  },
  {
   "cell_type": "code",
   "execution_count": 16,
   "metadata": {},
   "outputs": [
    {
     "data": {
      "text/plain": [
       "2"
      ]
     },
     "metadata": {},
     "output_type": "display_data"
    }
   ],
   "source": [
    "stack_top(s2)"
   ]
  },
  {
   "cell_type": "code",
   "execution_count": 18,
   "metadata": {},
   "outputs": [
    {
     "data": {
      "text/plain": [
       "1-element Vector{Int64}:\n",
       " 1"
      ]
     },
     "metadata": {},
     "output_type": "display_data"
    }
   ],
   "source": [
    "stack_pop(s2)"
   ]
  },
  {
   "cell_type": "code",
   "execution_count": null,
   "metadata": {},
   "outputs": [],
   "source": []
  }
 ],
 "metadata": {
  "kernelspec": {
   "display_name": "Julia 1.8.5",
   "language": "julia",
   "name": "julia-1.8"
  },
  "language_info": {
   "file_extension": ".jl",
   "mimetype": "application/julia",
   "name": "julia",
   "version": "1.8.5"
  },
  "orig_nbformat": 4
 },
 "nbformat": 4,
 "nbformat_minor": 2
}

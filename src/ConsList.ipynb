{
 "cells": [
  {
   "cell_type": "code",
   "execution_count": 2,
   "metadata": {},
   "outputs": [],
   "source": [
    "# Cons list structure\n",
    "\n",
    "struct ConsList{T}\n",
    "    head::T\n",
    "    tail::Union{ConsList{T}, Nothing}\n",
    "end"
   ]
  },
  {
   "cell_type": "code",
   "execution_count": 3,
   "metadata": {},
   "outputs": [
    {
     "data": {
      "text/plain": [
       "ConsList"
      ]
     },
     "metadata": {},
     "output_type": "display_data"
    }
   ],
   "source": [
    "# constructor\n",
    "\n",
    "function ConsList(head::Any)\n",
    "    return ConsList(head, nothing)\n",
    "end"
   ]
  },
  {
   "cell_type": "code",
   "execution_count": 4,
   "metadata": {},
   "outputs": [
    {
     "data": {
      "text/plain": [
       "cons (generic function with 1 method)"
      ]
     },
     "metadata": {},
     "output_type": "display_data"
    }
   ],
   "source": [
    "# Add a new element to the front of the list\n",
    "\n",
    "function cons(head::Any, tail::Union{ConsList{T}, Nothing}) where T\n",
    "    return ConsList(head, tail)\n",
    "end"
   ]
  },
  {
   "cell_type": "code",
   "execution_count": 5,
   "metadata": {},
   "outputs": [
    {
     "data": {
      "text/plain": [
       "head (generic function with 1 method)"
      ]
     },
     "metadata": {},
     "output_type": "display_data"
    }
   ],
   "source": [
    "# retrive the head\n",
    "\n",
    "function head(list::ConsList{T}) where T\n",
    "    return list.head\n",
    "end"
   ]
  },
  {
   "cell_type": "code",
   "execution_count": 6,
   "metadata": {},
   "outputs": [
    {
     "data": {
      "text/plain": [
       "tail (generic function with 1 method)"
      ]
     },
     "metadata": {},
     "output_type": "display_data"
    }
   ],
   "source": [
    "# retrive the tail\n",
    "\n",
    "function tail(list::ConsList{T}) where T\n",
    "    return list.tail\n",
    "end"
   ]
  },
  {
   "cell_type": "code",
   "execution_count": 7,
   "metadata": {},
   "outputs": [
    {
     "name": "stdout",
     "output_type": "stream",
     "text": [
      "Head of the list: 3"
     ]
    },
    {
     "name": "stdout",
     "output_type": "stream",
     "text": [
      "\n",
      "Tail of the list: "
     ]
    },
    {
     "name": "stdout",
     "output_type": "stream",
     "text": [
      "ConsList{Int64}(2"
     ]
    },
    {
     "name": "stdout",
     "output_type": "stream",
     "text": [
      ", ConsList{Int64}(1, nothing))\n"
     ]
    }
   ],
   "source": [
    "# test implementation\n",
    "\n",
    "\n",
    "list = cons(1, nothing)\n",
    "list = cons(2, list)\n",
    "list = cons(3, list)\n",
    "\n",
    "println(\"Head of the list: \", head(list))\n",
    "println(\"Tail of the list: \", tail(list))"
   ]
  },
  {
   "cell_type": "markdown",
   "metadata": {},
   "source": [
    "In this example, we created a ConsList struct with fields for the head (the first element) and the tail (the rest of the list). The cons function adds an element to the front of the list, and the head and tail functions retrieve the first element and the rest of the list, respectively.\n",
    "\n",
    "Keep in mind that this is a simple implementation, and you can extend it to support other operations like mapping, folding, or filtering if you'd like to explore more functional programming concepts."
   ]
  },
  {
   "cell_type": "markdown",
   "metadata": {},
   "source": [
    "```mermaid\n",
    "\n",
    "graph TD\n",
    "    node1(3) --> node2\n",
    "    node2(2) --> node3\n",
    "    node3(1) --> nil[nothing]\n",
    "    \n",
    "```"
   ]
  },
  {
   "cell_type": "code",
   "execution_count": 8,
   "metadata": {},
   "outputs": [
    {
     "data": {
      "text/plain": [
       "isempty (generic function with 1 method)"
      ]
     },
     "metadata": {},
     "output_type": "display_data"
    }
   ],
   "source": [
    "function isempty(list::Union{Nothing, ConsList})\n",
    "    return list === nothing\n",
    "end\n"
   ]
  },
  {
   "cell_type": "code",
   "execution_count": 13,
   "metadata": {},
   "outputs": [
    {
     "data": {
      "text/plain": [
       "ispair (generic function with 1 method)"
      ]
     },
     "metadata": {},
     "output_type": "display_data"
    }
   ],
   "source": [
    "function ispair(list::Union{Nothing, ConsList})\n",
    "    return !isempty(list) && !isempty(tail(list))\n",
    "end\n"
   ]
  },
  {
   "cell_type": "code",
   "execution_count": 14,
   "metadata": {},
   "outputs": [
    {
     "data": {
      "text/plain": [
       "cons_map (generic function with 1 method)"
      ]
     },
     "metadata": {},
     "output_type": "display_data"
    }
   ],
   "source": [
    "# Implementing Map Function on new data structure\n",
    "\n",
    "function cons_map(f::Function, list::Union{Nothing, ConsList})\n",
    "    if isempty(list)\n",
    "        return nothing\n",
    "    else\n",
    "        return cons(f(head(list)), cons_map(f, tail(list)))\n",
    "    end\n",
    "end\n",
    "\n",
    "\n"
   ]
  },
  {
   "cell_type": "code",
   "execution_count": 15,
   "metadata": {},
   "outputs": [
    {
     "data": {
      "text/plain": [
       "ConsList{Int64}(1, ConsList{Int64}(4, ConsList{Int64}(9, nothing)))"
      ]
     },
     "metadata": {},
     "output_type": "display_data"
    }
   ],
   "source": [
    "# Define a function to square the input\n",
    "function square(x)\n",
    "    return x * x\n",
    "end\n",
    "\n",
    "# Create a Cons List with elements 1, 2, and 3\n",
    "list = cons(1, cons(2, cons(3, nothing)))\n",
    "\n",
    "# Apply the 'square' function to each element of the list using the 'map' function\n",
    "squared_list = cons_map(square, list)"
   ]
  },
  {
   "cell_type": "code",
   "execution_count": 12,
   "metadata": {},
   "outputs": [],
   "source": []
  }
 ],
 "metadata": {
  "kernelspec": {
   "display_name": "Julia 1.8.5",
   "language": "julia",
   "name": "julia-1.8"
  },
  "language_info": {
   "file_extension": ".jl",
   "mimetype": "application/julia",
   "name": "julia",
   "version": "1.8.5"
  },
  "orig_nbformat": 4
 },
 "nbformat": 4,
 "nbformat_minor": 2
}
